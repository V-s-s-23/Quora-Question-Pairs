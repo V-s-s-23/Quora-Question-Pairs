{
 "cells": [
  {
   "cell_type": "code",
   "execution_count": 1,
   "id": "ac96d007",
   "metadata": {},
   "outputs": [],
   "source": [
    "import pandas as pd\n",
    "import numpy as np\n",
    "import matplotlib.pyplot as plt\n",
    "import seaborn as sns\n",
    "sns.set()"
   ]
  },
  {
   "cell_type": "code",
   "execution_count": 2,
   "id": "3edc947d",
   "metadata": {},
   "outputs": [],
   "source": [
    "data = pd.read_csv('C:\\\\Users\\\\Asus\\\\Desktop\\\\DATASETS\\\\train.csv')"
   ]
  },
  {
   "cell_type": "code",
   "execution_count": 3,
   "id": "f6f72925",
   "metadata": {},
   "outputs": [
    {
     "data": {
      "text/html": [
       "<div>\n",
       "<style scoped>\n",
       "    .dataframe tbody tr th:only-of-type {\n",
       "        vertical-align: middle;\n",
       "    }\n",
       "\n",
       "    .dataframe tbody tr th {\n",
       "        vertical-align: top;\n",
       "    }\n",
       "\n",
       "    .dataframe thead th {\n",
       "        text-align: right;\n",
       "    }\n",
       "</style>\n",
       "<table border=\"1\" class=\"dataframe\">\n",
       "  <thead>\n",
       "    <tr style=\"text-align: right;\">\n",
       "      <th></th>\n",
       "      <th>id</th>\n",
       "      <th>qid1</th>\n",
       "      <th>qid2</th>\n",
       "      <th>question1</th>\n",
       "      <th>question2</th>\n",
       "      <th>is_duplicate</th>\n",
       "    </tr>\n",
       "  </thead>\n",
       "  <tbody>\n",
       "    <tr>\n",
       "      <th>279945</th>\n",
       "      <td>279945</td>\n",
       "      <td>399440</td>\n",
       "      <td>399441</td>\n",
       "      <td>Is there any best anti-dragon, anti-hogs and a...</td>\n",
       "      <td>Could anyone give me suggestions to improve th...</td>\n",
       "      <td>0</td>\n",
       "    </tr>\n",
       "    <tr>\n",
       "      <th>109852</th>\n",
       "      <td>109852</td>\n",
       "      <td>180217</td>\n",
       "      <td>180218</td>\n",
       "      <td>Why did Motorola split up into two companies?</td>\n",
       "      <td>I created the app and leaving my job to work o...</td>\n",
       "      <td>0</td>\n",
       "    </tr>\n",
       "    <tr>\n",
       "      <th>340609</th>\n",
       "      <td>340609</td>\n",
       "      <td>468365</td>\n",
       "      <td>468366</td>\n",
       "      <td>What does the Fox say?</td>\n",
       "      <td>What noise does a fox make?</td>\n",
       "      <td>0</td>\n",
       "    </tr>\n",
       "    <tr>\n",
       "      <th>50367</th>\n",
       "      <td>50367</td>\n",
       "      <td>89490</td>\n",
       "      <td>89491</td>\n",
       "      <td>Can Japan still be a superpower country?</td>\n",
       "      <td>Can India become a electronic superpower and h...</td>\n",
       "      <td>0</td>\n",
       "    </tr>\n",
       "    <tr>\n",
       "      <th>369938</th>\n",
       "      <td>369938</td>\n",
       "      <td>317453</td>\n",
       "      <td>500425</td>\n",
       "      <td>How do I track my phone with GPS?</td>\n",
       "      <td>How do I track GPS in mobile phone?</td>\n",
       "      <td>0</td>\n",
       "    </tr>\n",
       "  </tbody>\n",
       "</table>\n",
       "</div>"
      ],
      "text/plain": [
       "            id    qid1    qid2  \\\n",
       "279945  279945  399440  399441   \n",
       "109852  109852  180217  180218   \n",
       "340609  340609  468365  468366   \n",
       "50367    50367   89490   89491   \n",
       "369938  369938  317453  500425   \n",
       "\n",
       "                                                question1  \\\n",
       "279945  Is there any best anti-dragon, anti-hogs and a...   \n",
       "109852      Why did Motorola split up into two companies?   \n",
       "340609                             What does the Fox say?   \n",
       "50367            Can Japan still be a superpower country?   \n",
       "369938                  How do I track my phone with GPS?   \n",
       "\n",
       "                                                question2  is_duplicate  \n",
       "279945  Could anyone give me suggestions to improve th...             0  \n",
       "109852  I created the app and leaving my job to work o...             0  \n",
       "340609                        What noise does a fox make?             0  \n",
       "50367   Can India become a electronic superpower and h...             0  \n",
       "369938                How do I track GPS in mobile phone?             0  "
      ]
     },
     "execution_count": 3,
     "metadata": {},
     "output_type": "execute_result"
    }
   ],
   "source": [
    "data.sample(5)"
   ]
  },
  {
   "cell_type": "code",
   "execution_count": 4,
   "id": "3a78406f",
   "metadata": {},
   "outputs": [
    {
     "data": {
      "text/plain": [
       "(404290, 6)"
      ]
     },
     "execution_count": 4,
     "metadata": {},
     "output_type": "execute_result"
    }
   ],
   "source": [
    "data.shape"
   ]
  },
  {
   "cell_type": "code",
   "execution_count": 5,
   "id": "0f1e6028",
   "metadata": {},
   "outputs": [
    {
     "name": "stdout",
     "output_type": "stream",
     "text": [
      "<class 'pandas.core.frame.DataFrame'>\n",
      "RangeIndex: 404290 entries, 0 to 404289\n",
      "Data columns (total 6 columns):\n",
      " #   Column        Non-Null Count   Dtype \n",
      "---  ------        --------------   ----- \n",
      " 0   id            404290 non-null  int64 \n",
      " 1   qid1          404290 non-null  int64 \n",
      " 2   qid2          404290 non-null  int64 \n",
      " 3   question1     404289 non-null  object\n",
      " 4   question2     404288 non-null  object\n",
      " 5   is_duplicate  404290 non-null  int64 \n",
      "dtypes: int64(4), object(2)\n",
      "memory usage: 18.5+ MB\n"
     ]
    }
   ],
   "source": [
    "data.info()"
   ]
  },
  {
   "cell_type": "code",
   "execution_count": 6,
   "id": "04fec740",
   "metadata": {},
   "outputs": [
    {
     "data": {
      "text/plain": [
       "id              0\n",
       "qid1            0\n",
       "qid2            0\n",
       "question1       1\n",
       "question2       2\n",
       "is_duplicate    0\n",
       "dtype: int64"
      ]
     },
     "execution_count": 6,
     "metadata": {},
     "output_type": "execute_result"
    }
   ],
   "source": [
    "data.isnull().sum()"
   ]
  },
  {
   "cell_type": "code",
   "execution_count": 7,
   "id": "00440a29",
   "metadata": {},
   "outputs": [],
   "source": [
    "data.dropna(inplace=True)"
   ]
  },
  {
   "cell_type": "code",
   "execution_count": 8,
   "id": "e0960a04",
   "metadata": {},
   "outputs": [
    {
     "data": {
      "text/plain": [
       "0"
      ]
     },
     "execution_count": 8,
     "metadata": {},
     "output_type": "execute_result"
    }
   ],
   "source": [
    "data.duplicated().sum()"
   ]
  },
  {
   "cell_type": "code",
   "execution_count": 9,
   "id": "aa7dfb83",
   "metadata": {},
   "outputs": [
    {
     "data": {
      "text/plain": [
       "<AxesSubplot:ylabel='is_duplicate'>"
      ]
     },
     "execution_count": 9,
     "metadata": {},
     "output_type": "execute_result"
    },
    {
     "data": {
      "image/png": "[encoded data removed]",
      "text/plain": [
       "<Figure size 432x288 with 1 Axes>"
      ]
     },
     "metadata": {},
     "output_type": "display_data"
    }
   ],
   "source": [
    "data['is_duplicate'].value_counts().plot(kind='pie',autopct='%0.2f')"
   ]
  },
  {
   "cell_type": "code",
   "execution_count": 10,
   "id": "63267419",
   "metadata": {},
   "outputs": [
    {
     "name": "stdout",
     "output_type": "stream",
     "text": [
      "Number of unique question 537929\n",
      "Number of question getting repeated 111778\n"
     ]
    }
   ],
   "source": [
    "# Repeated question\n",
    "qid = pd.Series(data['qid1'].tolist()+data['qid2'].tolist())\n",
    "print('Number of unique question',np.unique(qid).shape[0])\n",
    "x = qid.value_counts()>1\n",
    "print('Number of question getting repeated',x[x].shape[0])"
   ]
  },
  {
   "cell_type": "code",
   "execution_count": 11,
   "id": "243b6a48",
   "metadata": {},
   "outputs": [
    {
     "data": {
      "image/png": "[encoded data removed]",
      "text/plain": [
       "<Figure size 432x288 with 1 Axes>"
      ]
     },
     "metadata": {},
     "output_type": "display_data"
    }
   ],
   "source": [
    "# Repeated question histogram\n",
    "plt.hist(qid.value_counts().values,bins=160)\n",
    "plt.yscale('log')\n",
    "plt.show()"
   ]
  },
  {
   "cell_type": "code",
   "execution_count": 12,
   "id": "7d382c95",
   "metadata": {},
   "outputs": [],
   "source": [
    "# taking sample dataset because dataset is big"
   ]
  },
  {
   "cell_type": "code",
   "execution_count": 13,
   "id": "cef22082",
   "metadata": {},
   "outputs": [],
   "source": [
    "df = data.sample(30000,random_state=0)"
   ]
  },
  {
   "cell_type": "code",
   "execution_count": 14,
   "id": "7f4d0207",
   "metadata": {},
   "outputs": [
    {
     "name": "stdout",
     "output_type": "stream",
     "text": [
      "<class 'pandas.core.frame.DataFrame'>\n",
      "Int64Index: 30000 entries, 187266 to 194843\n",
      "Data columns (total 6 columns):\n",
      " #   Column        Non-Null Count  Dtype \n",
      "---  ------        --------------  ----- \n",
      " 0   id            30000 non-null  int64 \n",
      " 1   qid1          30000 non-null  int64 \n",
      " 2   qid2          30000 non-null  int64 \n",
      " 3   question1     30000 non-null  object\n",
      " 4   question2     30000 non-null  object\n",
      " 5   is_duplicate  30000 non-null  int64 \n",
      "dtypes: int64(4), object(2)\n",
      "memory usage: 1.6+ MB\n"
     ]
    }
   ],
   "source": [
    "df.info()"
   ]
  },
  {
   "cell_type": "code",
   "execution_count": 15,
   "id": "69a6230d",
   "metadata": {},
   "outputs": [
    {
     "data": {
      "text/plain": [
       "<AxesSubplot:ylabel='is_duplicate'>"
      ]
     },
     "execution_count": 15,
     "metadata": {},
     "output_type": "execute_result"
    },
    {
     "data": {
      "image/png": "[encoded data removed]",
      "text/plain": [
       "<Figure size 432x288 with 1 Axes>"
      ]
     },
     "metadata": {},
     "output_type": "display_data"
    }
   ],
   "source": [
    "df['is_duplicate'].value_counts().plot(kind='pie',autopct='%0.2f')"
   ]
  },
  {
   "cell_type": "code",
   "execution_count": 16,
   "id": "8d87e996",
   "metadata": {},
   "outputs": [
    {
     "name": "stdout",
     "output_type": "stream",
     "text": [
      "Number of unique question 55421\n",
      "Number of question getting repeated 3434\n"
     ]
    }
   ],
   "source": [
    "# Repeated question\n",
    "qid = pd.Series(df['qid1'].tolist()+df['qid2'].tolist())\n",
    "print('Number of unique question',np.unique(qid).shape[0])\n",
    "x = qid.value_counts()>1\n",
    "print('Number of question getting repeated',x[x].shape[0])"
   ]
  },
  {
   "cell_type": "code",
   "execution_count": 17,
   "id": "c2d5d86b",
   "metadata": {},
   "outputs": [
    {
     "data": {
      "image/png": "[encoded data removed]",
      "text/plain": [
       "<Figure size 432x288 with 1 Axes>"
      ]
     },
     "metadata": {},
     "output_type": "display_data"
    }
   ],
   "source": [
    "# Repeated question histogram\n",
    "plt.hist(qid.value_counts().values,bins=100)\n",
    "plt.yscale('log')\n",
    "plt.show()"
   ]
  },
  {
   "cell_type": "code",
   "execution_count": 18,
   "id": "65e2fa88",
   "metadata": {},
   "outputs": [],
   "source": [
    "# adding more features in dataset"
   ]
  },
  {
   "cell_type": "code",
   "execution_count": 19,
   "id": "217caf7b",
   "metadata": {},
   "outputs": [
    {
     "data": {
      "text/html": [
       "<div>\n",
       "<style scoped>\n",
       "    .dataframe tbody tr th:only-of-type {\n",
       "        vertical-align: middle;\n",
       "    }\n",
       "\n",
       "    .dataframe tbody tr th {\n",
       "        vertical-align: top;\n",
       "    }\n",
       "\n",
       "    .dataframe thead th {\n",
       "        text-align: right;\n",
       "    }\n",
       "</style>\n",
       "<table border=\"1\" class=\"dataframe\">\n",
       "  <thead>\n",
       "    <tr style=\"text-align: right;\">\n",
       "      <th></th>\n",
       "      <th>id</th>\n",
       "      <th>qid1</th>\n",
       "      <th>qid2</th>\n",
       "      <th>question1</th>\n",
       "      <th>question2</th>\n",
       "      <th>is_duplicate</th>\n",
       "      <th>q1_num_words</th>\n",
       "      <th>q2_num_words</th>\n",
       "    </tr>\n",
       "  </thead>\n",
       "  <tbody>\n",
       "    <tr>\n",
       "      <th>187266</th>\n",
       "      <td>187266</td>\n",
       "      <td>285431</td>\n",
       "      <td>41214</td>\n",
       "      <td>What are some differences between German and A...</td>\n",
       "      <td>What are the cultural differences between Aust...</td>\n",
       "      <td>1</td>\n",
       "      <td>9</td>\n",
       "      <td>9</td>\n",
       "    </tr>\n",
       "    <tr>\n",
       "      <th>6557</th>\n",
       "      <td>6557</td>\n",
       "      <td>12839</td>\n",
       "      <td>12840</td>\n",
       "      <td>What are the best Doctor Doom stories?</td>\n",
       "      <td>What are the best comics featuring Doctor Doom?</td>\n",
       "      <td>1</td>\n",
       "      <td>7</td>\n",
       "      <td>8</td>\n",
       "    </tr>\n",
       "    <tr>\n",
       "      <th>139265</th>\n",
       "      <td>139265</td>\n",
       "      <td>27229</td>\n",
       "      <td>65241</td>\n",
       "      <td>What are the best books to prepare for SSB?</td>\n",
       "      <td>What are the best books to prepare for the IIT...</td>\n",
       "      <td>0</td>\n",
       "      <td>9</td>\n",
       "      <td>13</td>\n",
       "    </tr>\n",
       "    <tr>\n",
       "      <th>240137</th>\n",
       "      <td>240137</td>\n",
       "      <td>351894</td>\n",
       "      <td>351895</td>\n",
       "      <td>Is an MS in VLSI from Portland State Universit...</td>\n",
       "      <td>Which universities should I apply for an MS in...</td>\n",
       "      <td>0</td>\n",
       "      <td>24</td>\n",
       "      <td>10</td>\n",
       "    </tr>\n",
       "    <tr>\n",
       "      <th>3336</th>\n",
       "      <td>3336</td>\n",
       "      <td>6613</td>\n",
       "      <td>6614</td>\n",
       "      <td>Height: How would a 14 year old increase his h...</td>\n",
       "      <td>How should I increase my height?</td>\n",
       "      <td>1</td>\n",
       "      <td>10</td>\n",
       "      <td>6</td>\n",
       "    </tr>\n",
       "  </tbody>\n",
       "</table>\n",
       "</div>"
      ],
      "text/plain": [
       "            id    qid1    qid2  \\\n",
       "187266  187266  285431   41214   \n",
       "6557      6557   12839   12840   \n",
       "139265  139265   27229   65241   \n",
       "240137  240137  351894  351895   \n",
       "3336      3336    6613    6614   \n",
       "\n",
       "                                                question1  \\\n",
       "187266  What are some differences between German and A...   \n",
       "6557               What are the best Doctor Doom stories?   \n",
       "139265        What are the best books to prepare for SSB?   \n",
       "240137  Is an MS in VLSI from Portland State Universit...   \n",
       "3336    Height: How would a 14 year old increase his h...   \n",
       "\n",
       "                                                question2  is_duplicate  \\\n",
       "187266  What are the cultural differences between Aust...             1   \n",
       "6557      What are the best comics featuring Doctor Doom?             1   \n",
       "139265  What are the best books to prepare for the IIT...             0   \n",
       "240137  Which universities should I apply for an MS in...             0   \n",
       "3336                     How should I increase my height?             1   \n",
       "\n",
       "        q1_num_words  q2_num_words  \n",
       "187266             9             9  \n",
       "6557               7             8  \n",
       "139265             9            13  \n",
       "240137            24            10  \n",
       "3336              10             6  "
      ]
     },
     "execution_count": 19,
     "metadata": {},
     "output_type": "execute_result"
    }
   ],
   "source": [
    "df['q1_num_words'] =  df['question1'].apply(lambda x: len(x.split(\" \")))\n",
    "df['q2_num_words'] =  df['question2'].apply(lambda x: len(x.split(\" \")))\n",
    "df.head()"
   ]
  },
  {
   "cell_type": "code",
   "execution_count": 20,
   "id": "3bba6826",
   "metadata": {},
   "outputs": [],
   "source": [
    "# common words\n",
    "def common_words(row):\n",
    "    w1 = set(map(lambda x: x.lower().strip() , row['question1'].split(\" \")))\n",
    "    w2 = set(map(lambda x: x.lower().strip() , row['question2'].split(\" \")))\n",
    "    return len(w1&w2)"
   ]
  },
  {
   "cell_type": "code",
   "execution_count": 21,
   "id": "54a8ae08",
   "metadata": {},
   "outputs": [],
   "source": [
    "df['common_words']=df.apply(common_words,axis=1)"
   ]
  },
  {
   "cell_type": "code",
   "execution_count": 22,
   "id": "04dea7b1",
   "metadata": {},
   "outputs": [
    {
     "data": {
      "text/html": [
       "<div>\n",
       "<style scoped>\n",
       "    .dataframe tbody tr th:only-of-type {\n",
       "        vertical-align: middle;\n",
       "    }\n",
       "\n",
       "    .dataframe tbody tr th {\n",
       "        vertical-align: top;\n",
       "    }\n",
       "\n",
       "    .dataframe thead th {\n",
       "        text-align: right;\n",
       "    }\n",
       "</style>\n",
       "<table border=\"1\" class=\"dataframe\">\n",
       "  <thead>\n",
       "    <tr style=\"text-align: right;\">\n",
       "      <th></th>\n",
       "      <th>id</th>\n",
       "      <th>qid1</th>\n",
       "      <th>qid2</th>\n",
       "      <th>question1</th>\n",
       "      <th>question2</th>\n",
       "      <th>is_duplicate</th>\n",
       "      <th>q1_num_words</th>\n",
       "      <th>q2_num_words</th>\n",
       "      <th>common_words</th>\n",
       "    </tr>\n",
       "  </thead>\n",
       "  <tbody>\n",
       "    <tr>\n",
       "      <th>187266</th>\n",
       "      <td>187266</td>\n",
       "      <td>285431</td>\n",
       "      <td>41214</td>\n",
       "      <td>What are some differences between German and A...</td>\n",
       "      <td>What are the cultural differences between Aust...</td>\n",
       "      <td>1</td>\n",
       "      <td>9</td>\n",
       "      <td>9</td>\n",
       "      <td>5</td>\n",
       "    </tr>\n",
       "    <tr>\n",
       "      <th>6557</th>\n",
       "      <td>6557</td>\n",
       "      <td>12839</td>\n",
       "      <td>12840</td>\n",
       "      <td>What are the best Doctor Doom stories?</td>\n",
       "      <td>What are the best comics featuring Doctor Doom?</td>\n",
       "      <td>1</td>\n",
       "      <td>7</td>\n",
       "      <td>8</td>\n",
       "      <td>5</td>\n",
       "    </tr>\n",
       "    <tr>\n",
       "      <th>139265</th>\n",
       "      <td>139265</td>\n",
       "      <td>27229</td>\n",
       "      <td>65241</td>\n",
       "      <td>What are the best books to prepare for SSB?</td>\n",
       "      <td>What are the best books to prepare for the IIT...</td>\n",
       "      <td>0</td>\n",
       "      <td>9</td>\n",
       "      <td>13</td>\n",
       "      <td>8</td>\n",
       "    </tr>\n",
       "    <tr>\n",
       "      <th>240137</th>\n",
       "      <td>240137</td>\n",
       "      <td>351894</td>\n",
       "      <td>351895</td>\n",
       "      <td>Is an MS in VLSI from Portland State Universit...</td>\n",
       "      <td>Which universities should I apply for an MS in...</td>\n",
       "      <td>0</td>\n",
       "      <td>24</td>\n",
       "      <td>10</td>\n",
       "      <td>4</td>\n",
       "    </tr>\n",
       "    <tr>\n",
       "      <th>3336</th>\n",
       "      <td>3336</td>\n",
       "      <td>6613</td>\n",
       "      <td>6614</td>\n",
       "      <td>Height: How would a 14 year old increase his h...</td>\n",
       "      <td>How should I increase my height?</td>\n",
       "      <td>1</td>\n",
       "      <td>10</td>\n",
       "      <td>6</td>\n",
       "      <td>3</td>\n",
       "    </tr>\n",
       "  </tbody>\n",
       "</table>\n",
       "</div>"
      ],
      "text/plain": [
       "            id    qid1    qid2  \\\n",
       "187266  187266  285431   41214   \n",
       "6557      6557   12839   12840   \n",
       "139265  139265   27229   65241   \n",
       "240137  240137  351894  351895   \n",
       "3336      3336    6613    6614   \n",
       "\n",
       "                                                question1  \\\n",
       "187266  What are some differences between German and A...   \n",
       "6557               What are the best Doctor Doom stories?   \n",
       "139265        What are the best books to prepare for SSB?   \n",
       "240137  Is an MS in VLSI from Portland State Universit...   \n",
       "3336    Height: How would a 14 year old increase his h...   \n",
       "\n",
       "                                                question2  is_duplicate  \\\n",
       "187266  What are the cultural differences between Aust...             1   \n",
       "6557      What are the best comics featuring Doctor Doom?             1   \n",
       "139265  What are the best books to prepare for the IIT...             0   \n",
       "240137  Which universities should I apply for an MS in...             0   \n",
       "3336                     How should I increase my height?             1   \n",
       "\n",
       "        q1_num_words  q2_num_words  common_words  \n",
       "187266             9             9             5  \n",
       "6557               7             8             5  \n",
       "139265             9            13             8  \n",
       "240137            24            10             4  \n",
       "3336              10             6             3  "
      ]
     },
     "execution_count": 22,
     "metadata": {},
     "output_type": "execute_result"
    }
   ],
   "source": [
    "df.head()"
   ]
  },
  {
   "cell_type": "code",
   "execution_count": 23,
   "id": "cec65605",
   "metadata": {},
   "outputs": [],
   "source": [
    "# Total Words\n",
    "def total_words(row):\n",
    "    w1 = set(map(lambda x: x.lower().strip() , row['question1'].split(\" \")))\n",
    "    w2 = set(map(lambda x: x.lower().strip() , row['question2'].split(\" \")))\n",
    "    return (len(w1)+len(w2))"
   ]
  },
  {
   "cell_type": "code",
   "execution_count": 24,
   "id": "04245705",
   "metadata": {},
   "outputs": [
    {
     "data": {
      "text/html": [
       "<div>\n",
       "<style scoped>\n",
       "    .dataframe tbody tr th:only-of-type {\n",
       "        vertical-align: middle;\n",
       "    }\n",
       "\n",
       "    .dataframe tbody tr th {\n",
       "        vertical-align: top;\n",
       "    }\n",
       "\n",
       "    .dataframe thead th {\n",
       "        text-align: right;\n",
       "    }\n",
       "</style>\n",
       "<table border=\"1\" class=\"dataframe\">\n",
       "  <thead>\n",
       "    <tr style=\"text-align: right;\">\n",
       "      <th></th>\n",
       "      <th>id</th>\n",
       "      <th>qid1</th>\n",
       "      <th>qid2</th>\n",
       "      <th>question1</th>\n",
       "      <th>question2</th>\n",
       "      <th>is_duplicate</th>\n",
       "      <th>q1_num_words</th>\n",
       "      <th>q2_num_words</th>\n",
       "      <th>common_words</th>\n",
       "      <th>total_words</th>\n",
       "    </tr>\n",
       "  </thead>\n",
       "  <tbody>\n",
       "    <tr>\n",
       "      <th>187266</th>\n",
       "      <td>187266</td>\n",
       "      <td>285431</td>\n",
       "      <td>41214</td>\n",
       "      <td>What are some differences between German and A...</td>\n",
       "      <td>What are the cultural differences between Aust...</td>\n",
       "      <td>1</td>\n",
       "      <td>9</td>\n",
       "      <td>9</td>\n",
       "      <td>5</td>\n",
       "      <td>18</td>\n",
       "    </tr>\n",
       "    <tr>\n",
       "      <th>6557</th>\n",
       "      <td>6557</td>\n",
       "      <td>12839</td>\n",
       "      <td>12840</td>\n",
       "      <td>What are the best Doctor Doom stories?</td>\n",
       "      <td>What are the best comics featuring Doctor Doom?</td>\n",
       "      <td>1</td>\n",
       "      <td>7</td>\n",
       "      <td>8</td>\n",
       "      <td>5</td>\n",
       "      <td>15</td>\n",
       "    </tr>\n",
       "    <tr>\n",
       "      <th>139265</th>\n",
       "      <td>139265</td>\n",
       "      <td>27229</td>\n",
       "      <td>65241</td>\n",
       "      <td>What are the best books to prepare for SSB?</td>\n",
       "      <td>What are the best books to prepare for the IIT...</td>\n",
       "      <td>0</td>\n",
       "      <td>9</td>\n",
       "      <td>13</td>\n",
       "      <td>8</td>\n",
       "      <td>21</td>\n",
       "    </tr>\n",
       "    <tr>\n",
       "      <th>240137</th>\n",
       "      <td>240137</td>\n",
       "      <td>351894</td>\n",
       "      <td>351895</td>\n",
       "      <td>Is an MS in VLSI from Portland State Universit...</td>\n",
       "      <td>Which universities should I apply for an MS in...</td>\n",
       "      <td>0</td>\n",
       "      <td>24</td>\n",
       "      <td>10</td>\n",
       "      <td>4</td>\n",
       "      <td>33</td>\n",
       "    </tr>\n",
       "    <tr>\n",
       "      <th>3336</th>\n",
       "      <td>3336</td>\n",
       "      <td>6613</td>\n",
       "      <td>6614</td>\n",
       "      <td>Height: How would a 14 year old increase his h...</td>\n",
       "      <td>How should I increase my height?</td>\n",
       "      <td>1</td>\n",
       "      <td>10</td>\n",
       "      <td>6</td>\n",
       "      <td>3</td>\n",
       "      <td>16</td>\n",
       "    </tr>\n",
       "  </tbody>\n",
       "</table>\n",
       "</div>"
      ],
      "text/plain": [
       "            id    qid1    qid2  \\\n",
       "187266  187266  285431   41214   \n",
       "6557      6557   12839   12840   \n",
       "139265  139265   27229   65241   \n",
       "240137  240137  351894  351895   \n",
       "3336      3336    6613    6614   \n",
       "\n",
       "                                                question1  \\\n",
       "187266  What are some differences between German and A...   \n",
       "6557               What are the best Doctor Doom stories?   \n",
       "139265        What are the best books to prepare for SSB?   \n",
       "240137  Is an MS in VLSI from Portland State Universit...   \n",
       "3336    Height: How would a 14 year old increase his h...   \n",
       "\n",
       "                                                question2  is_duplicate  \\\n",
       "187266  What are the cultural differences between Aust...             1   \n",
       "6557      What are the best comics featuring Doctor Doom?             1   \n",
       "139265  What are the best books to prepare for the IIT...             0   \n",
       "240137  Which universities should I apply for an MS in...             0   \n",
       "3336                     How should I increase my height?             1   \n",
       "\n",
       "        q1_num_words  q2_num_words  common_words  total_words  \n",
       "187266             9             9             5           18  \n",
       "6557               7             8             5           15  \n",
       "139265             9            13             8           21  \n",
       "240137            24            10             4           33  \n",
       "3336              10             6             3           16  "
      ]
     },
     "execution_count": 24,
     "metadata": {},
     "output_type": "execute_result"
    }
   ],
   "source": [
    "df['total_words']=df.apply(total_words,axis=1)\n",
    "df.head()"
   ]
  },
  {
   "cell_type": "code",
   "execution_count": 25,
   "id": "9e2396ff",
   "metadata": {},
   "outputs": [
    {
     "data": {
      "text/html": [
       "<div>\n",
       "<style scoped>\n",
       "    .dataframe tbody tr th:only-of-type {\n",
       "        vertical-align: middle;\n",
       "    }\n",
       "\n",
       "    .dataframe tbody tr th {\n",
       "        vertical-align: top;\n",
       "    }\n",
       "\n",
       "    .dataframe thead th {\n",
       "        text-align: right;\n",
       "    }\n",
       "</style>\n",
       "<table border=\"1\" class=\"dataframe\">\n",
       "  <thead>\n",
       "    <tr style=\"text-align: right;\">\n",
       "      <th></th>\n",
       "      <th>id</th>\n",
       "      <th>qid1</th>\n",
       "      <th>qid2</th>\n",
       "      <th>question1</th>\n",
       "      <th>question2</th>\n",
       "      <th>is_duplicate</th>\n",
       "      <th>q1_num_words</th>\n",
       "      <th>q2_num_words</th>\n",
       "      <th>common_words</th>\n",
       "      <th>total_words</th>\n",
       "      <th>q1_len</th>\n",
       "      <th>q2_len</th>\n",
       "    </tr>\n",
       "  </thead>\n",
       "  <tbody>\n",
       "    <tr>\n",
       "      <th>360747</th>\n",
       "      <td>360747</td>\n",
       "      <td>490546</td>\n",
       "      <td>490547</td>\n",
       "      <td>How can I download books from \"textbooknova\"?</td>\n",
       "      <td>How can I download a book from Issuu.com?</td>\n",
       "      <td>0</td>\n",
       "      <td>7</td>\n",
       "      <td>8</td>\n",
       "      <td>5</td>\n",
       "      <td>15</td>\n",
       "      <td>45</td>\n",
       "      <td>41</td>\n",
       "    </tr>\n",
       "    <tr>\n",
       "      <th>266619</th>\n",
       "      <td>266619</td>\n",
       "      <td>22233</td>\n",
       "      <td>68325</td>\n",
       "      <td>Why do some people think Hillary Clinton is a ...</td>\n",
       "      <td>Why do some people believe that Hillary Clinto...</td>\n",
       "      <td>1</td>\n",
       "      <td>11</td>\n",
       "      <td>11</td>\n",
       "      <td>9</td>\n",
       "      <td>22</td>\n",
       "      <td>58</td>\n",
       "      <td>58</td>\n",
       "    </tr>\n",
       "    <tr>\n",
       "      <th>280064</th>\n",
       "      <td>280064</td>\n",
       "      <td>22711</td>\n",
       "      <td>68749</td>\n",
       "      <td>What are the best books for SSC CGL preparation?</td>\n",
       "      <td>Which are the best books for SSC CGL?</td>\n",
       "      <td>1</td>\n",
       "      <td>9</td>\n",
       "      <td>8</td>\n",
       "      <td>6</td>\n",
       "      <td>17</td>\n",
       "      <td>48</td>\n",
       "      <td>37</td>\n",
       "    </tr>\n",
       "    <tr>\n",
       "      <th>231675</th>\n",
       "      <td>231675</td>\n",
       "      <td>52318</td>\n",
       "      <td>678</td>\n",
       "      <td>How do I quit smoking?</td>\n",
       "      <td>How did you quit/stop smoking?</td>\n",
       "      <td>1</td>\n",
       "      <td>5</td>\n",
       "      <td>5</td>\n",
       "      <td>2</td>\n",
       "      <td>10</td>\n",
       "      <td>22</td>\n",
       "      <td>30</td>\n",
       "    </tr>\n",
       "    <tr>\n",
       "      <th>402771</th>\n",
       "      <td>402771</td>\n",
       "      <td>4051</td>\n",
       "      <td>37921</td>\n",
       "      <td>What can I do to practice my English?</td>\n",
       "      <td>How can I become good at English?</td>\n",
       "      <td>1</td>\n",
       "      <td>8</td>\n",
       "      <td>7</td>\n",
       "      <td>3</td>\n",
       "      <td>15</td>\n",
       "      <td>37</td>\n",
       "      <td>33</td>\n",
       "    </tr>\n",
       "  </tbody>\n",
       "</table>\n",
       "</div>"
      ],
      "text/plain": [
       "            id    qid1    qid2  \\\n",
       "360747  360747  490546  490547   \n",
       "266619  266619   22233   68325   \n",
       "280064  280064   22711   68749   \n",
       "231675  231675   52318     678   \n",
       "402771  402771    4051   37921   \n",
       "\n",
       "                                                question1  \\\n",
       "360747      How can I download books from \"textbooknova\"?   \n",
       "266619  Why do some people think Hillary Clinton is a ...   \n",
       "280064   What are the best books for SSC CGL preparation?   \n",
       "231675                             How do I quit smoking?   \n",
       "402771              What can I do to practice my English?   \n",
       "\n",
       "                                                question2  is_duplicate  \\\n",
       "360747          How can I download a book from Issuu.com?             0   \n",
       "266619  Why do some people believe that Hillary Clinto...             1   \n",
       "280064              Which are the best books for SSC CGL?             1   \n",
       "231675                     How did you quit/stop smoking?             1   \n",
       "402771                  How can I become good at English?             1   \n",
       "\n",
       "        q1_num_words  q2_num_words  common_words  total_words  q1_len  q2_len  \n",
       "360747             7             8             5           15      45      41  \n",
       "266619            11            11             9           22      58      58  \n",
       "280064             9             8             6           17      48      37  \n",
       "231675             5             5             2           10      22      30  \n",
       "402771             8             7             3           15      37      33  "
      ]
     },
     "execution_count": 25,
     "metadata": {},
     "output_type": "execute_result"
    }
   ],
   "source": [
    "df['q1_len'] = df['question1'].str.len()\n",
    "df['q2_len'] = df['question2'].str.len()\n",
    "df.sample(5)"
   ]
  },
  {
   "cell_type": "code",
   "execution_count": 26,
   "id": "ef6e75ac",
   "metadata": {},
   "outputs": [
    {
     "data": {
      "text/html": [
       "<div>\n",
       "<style scoped>\n",
       "    .dataframe tbody tr th:only-of-type {\n",
       "        vertical-align: middle;\n",
       "    }\n",
       "\n",
       "    .dataframe tbody tr th {\n",
       "        vertical-align: top;\n",
       "    }\n",
       "\n",
       "    .dataframe thead th {\n",
       "        text-align: right;\n",
       "    }\n",
       "</style>\n",
       "<table border=\"1\" class=\"dataframe\">\n",
       "  <thead>\n",
       "    <tr style=\"text-align: right;\">\n",
       "      <th></th>\n",
       "      <th>id</th>\n",
       "      <th>qid1</th>\n",
       "      <th>qid2</th>\n",
       "      <th>question1</th>\n",
       "      <th>question2</th>\n",
       "      <th>is_duplicate</th>\n",
       "      <th>q1_num_words</th>\n",
       "      <th>q2_num_words</th>\n",
       "      <th>common_words</th>\n",
       "      <th>total_words</th>\n",
       "      <th>q1_len</th>\n",
       "      <th>q2_len</th>\n",
       "      <th>word_share</th>\n",
       "    </tr>\n",
       "  </thead>\n",
       "  <tbody>\n",
       "    <tr>\n",
       "      <th>6075</th>\n",
       "      <td>6075</td>\n",
       "      <td>11913</td>\n",
       "      <td>11914</td>\n",
       "      <td>What is Artificial Intelligence?</td>\n",
       "      <td>What all does Artificial Intelligence include?</td>\n",
       "      <td>0</td>\n",
       "      <td>4</td>\n",
       "      <td>6</td>\n",
       "      <td>2</td>\n",
       "      <td>10</td>\n",
       "      <td>32</td>\n",
       "      <td>46</td>\n",
       "      <td>0.20</td>\n",
       "    </tr>\n",
       "    <tr>\n",
       "      <th>256767</th>\n",
       "      <td>256767</td>\n",
       "      <td>371957</td>\n",
       "      <td>371958</td>\n",
       "      <td>Who is the best player NOT in the Baseball Hal...</td>\n",
       "      <td>Who are the best players in the Baseball Hall ...</td>\n",
       "      <td>1</td>\n",
       "      <td>12</td>\n",
       "      <td>13</td>\n",
       "      <td>7</td>\n",
       "      <td>23</td>\n",
       "      <td>56</td>\n",
       "      <td>62</td>\n",
       "      <td>0.30</td>\n",
       "    </tr>\n",
       "    <tr>\n",
       "      <th>235502</th>\n",
       "      <td>235502</td>\n",
       "      <td>23601</td>\n",
       "      <td>9406</td>\n",
       "      <td>What are some of the best ways to lose 20 poun...</td>\n",
       "      <td>What are some ways to lose 20 pounds in 3 weeks?</td>\n",
       "      <td>1</td>\n",
       "      <td>14</td>\n",
       "      <td>11</td>\n",
       "      <td>11</td>\n",
       "      <td>25</td>\n",
       "      <td>60</td>\n",
       "      <td>48</td>\n",
       "      <td>0.44</td>\n",
       "    </tr>\n",
       "    <tr>\n",
       "      <th>98477</th>\n",
       "      <td>98477</td>\n",
       "      <td>163630</td>\n",
       "      <td>163631</td>\n",
       "      <td>Is it legal for a campaign to work together co...</td>\n",
       "      <td>Is it legal for a candidate for President to s...</td>\n",
       "      <td>0</td>\n",
       "      <td>23</td>\n",
       "      <td>17</td>\n",
       "      <td>6</td>\n",
       "      <td>37</td>\n",
       "      <td>143</td>\n",
       "      <td>93</td>\n",
       "      <td>0.16</td>\n",
       "    </tr>\n",
       "    <tr>\n",
       "      <th>102439</th>\n",
       "      <td>102439</td>\n",
       "      <td>6749</td>\n",
       "      <td>20542</td>\n",
       "      <td>How can improve my English speaking?</td>\n",
       "      <td>How can I improve fluency in English?</td>\n",
       "      <td>1</td>\n",
       "      <td>6</td>\n",
       "      <td>7</td>\n",
       "      <td>3</td>\n",
       "      <td>13</td>\n",
       "      <td>36</td>\n",
       "      <td>37</td>\n",
       "      <td>0.23</td>\n",
       "    </tr>\n",
       "  </tbody>\n",
       "</table>\n",
       "</div>"
      ],
      "text/plain": [
       "            id    qid1    qid2  \\\n",
       "6075      6075   11913   11914   \n",
       "256767  256767  371957  371958   \n",
       "235502  235502   23601    9406   \n",
       "98477    98477  163630  163631   \n",
       "102439  102439    6749   20542   \n",
       "\n",
       "                                                question1  \\\n",
       "6075                     What is Artificial Intelligence?   \n",
       "256767  Who is the best player NOT in the Baseball Hal...   \n",
       "235502  What are some of the best ways to lose 20 poun...   \n",
       "98477   Is it legal for a campaign to work together co...   \n",
       "102439               How can improve my English speaking?   \n",
       "\n",
       "                                                question2  is_duplicate  \\\n",
       "6075       What all does Artificial Intelligence include?             0   \n",
       "256767  Who are the best players in the Baseball Hall ...             1   \n",
       "235502   What are some ways to lose 20 pounds in 3 weeks?             1   \n",
       "98477   Is it legal for a candidate for President to s...             0   \n",
       "102439              How can I improve fluency in English?             1   \n",
       "\n",
       "        q1_num_words  q2_num_words  common_words  total_words  q1_len  q2_len  \\\n",
       "6075               4             6             2           10      32      46   \n",
       "256767            12            13             7           23      56      62   \n",
       "235502            14            11            11           25      60      48   \n",
       "98477             23            17             6           37     143      93   \n",
       "102439             6             7             3           13      36      37   \n",
       "\n",
       "        word_share  \n",
       "6075          0.20  \n",
       "256767        0.30  \n",
       "235502        0.44  \n",
       "98477         0.16  \n",
       "102439        0.23  "
      ]
     },
     "execution_count": 26,
     "metadata": {},
     "output_type": "execute_result"
    }
   ],
   "source": [
    "df['word_share']=round(df['common_words']/df['total_words'],2)\n",
    "df.sample(5)"
   ]
  },
  {
   "cell_type": "code",
   "execution_count": 27,
   "id": "adf51cc6",
   "metadata": {},
   "outputs": [],
   "source": [
    "# Analysis od features"
   ]
  },
  {
   "cell_type": "code",
   "execution_count": 28,
   "id": "3c23b651",
   "metadata": {},
   "outputs": [
    {
     "name": "stdout",
     "output_type": "stream",
     "text": [
      "miminum characters 1\n",
      "maximum characters 1151\n",
      "average number of character 59\n"
     ]
    },
    {
     "data": {
      "image/png": "[encoded data removed]",
      "text/plain": [
       "<Figure size 432x288 with 1 Axes>"
      ]
     },
     "metadata": {},
     "output_type": "display_data"
    }
   ],
   "source": [
    "sns.histplot(df['q1_len'])\n",
    "print('miminum characters',df['q1_len'].min())\n",
    "print('maximum characters',df['q2_len'].max())\n",
    "print('average number of character',int(df['q1_len'].mean()))"
   ]
  },
  {
   "cell_type": "code",
   "execution_count": 29,
   "id": "b8993efc",
   "metadata": {},
   "outputs": [
    {
     "name": "stdout",
     "output_type": "stream",
     "text": [
      "miminum characters 2\n",
      "maximum characters 1151\n",
      "average number of character 60\n"
     ]
    },
    {
     "data": {
      "image/png": "[encoded data removed]",
      "text/plain": [
       "<Figure size 432x288 with 1 Axes>"
      ]
     },
     "metadata": {},
     "output_type": "display_data"
    }
   ],
   "source": [
    "sns.histplot(df['q2_len'])\n",
    "print('miminum characters',df['q2_len'].min())\n",
    "print('maximum characters',df['q2_len'].max())\n",
    "print('average number of character',int(df['q2_len'].mean()))"
   ]
  },
  {
   "cell_type": "code",
   "execution_count": 30,
   "id": "aee007ae",
   "metadata": {
    "scrolled": true
   },
   "outputs": [
    {
     "name": "stderr",
     "output_type": "stream",
     "text": [
      "C:\\Users\\Asus\\anaconda3\\lib\\site-packages\\seaborn\\distributions.py:2619: FutureWarning: `distplot` is a deprecated function and will be removed in a future version. Please adapt your code to use either `displot` (a figure-level function with similar flexibility) or `histplot` (an axes-level function for histograms).\n",
      "  warnings.warn(msg, FutureWarning)\n",
      "C:\\Users\\Asus\\anaconda3\\lib\\site-packages\\seaborn\\distributions.py:2619: FutureWarning: `distplot` is a deprecated function and will be removed in a future version. Please adapt your code to use either `displot` (a figure-level function with similar flexibility) or `histplot` (an axes-level function for histograms).\n",
      "  warnings.warn(msg, FutureWarning)\n"
     ]
    },
    {
     "data": {
      "image/png": "[encoded data removed]",
      "text/plain": [
       "<Figure size 432x288 with 1 Axes>"
      ]
     },
     "metadata": {},
     "output_type": "display_data"
    }
   ],
   "source": [
    "# common words\n",
    "sns.distplot(df[df['is_duplicate']==0]['common_words'],label='NON_DUPLICATE')\n",
    "sns.distplot(df[df['is_duplicate']==1]['common_words'],label='DUPLICATE')\n",
    "plt.legend()\n",
    "plt.show()"
   ]
  },
  {
   "cell_type": "markdown",
   "id": "eca49ad5",
   "metadata": {},
   "source": [
    "# we can see if words in question1 and question2 are less than 4 , there is high probability that it will be \"NON DUPLICATE\"\n",
    "# or if it more than 4 , there is high probability it will be\"Duplicate\""
   ]
  },
  {
   "cell_type": "code",
   "execution_count": 31,
   "id": "41bfb98a",
   "metadata": {},
   "outputs": [
    {
     "name": "stderr",
     "output_type": "stream",
     "text": [
      "C:\\Users\\Asus\\anaconda3\\lib\\site-packages\\seaborn\\distributions.py:2619: FutureWarning: `distplot` is a deprecated function and will be removed in a future version. Please adapt your code to use either `displot` (a figure-level function with similar flexibility) or `histplot` (an axes-level function for histograms).\n",
      "  warnings.warn(msg, FutureWarning)\n",
      "C:\\Users\\Asus\\anaconda3\\lib\\site-packages\\seaborn\\distributions.py:2619: FutureWarning: `distplot` is a deprecated function and will be removed in a future version. Please adapt your code to use either `displot` (a figure-level function with similar flexibility) or `histplot` (an axes-level function for histograms).\n",
      "  warnings.warn(msg, FutureWarning)\n"
     ]
    },
    {
     "data": {
      "image/png": "[encoded data removed]",
      "text/plain": [
       "<Figure size 432x288 with 1 Axes>"
      ]
     },
     "metadata": {},
     "output_type": "display_data"
    }
   ],
   "source": [
    "# total words\n",
    "sns.distplot(df[df['is_duplicate']==0]['total_words'],label='NON_DUPLICATE')\n",
    "sns.distplot(df[df['is_duplicate']==1]['total_words'],label='DUPLICATE')\n",
    "plt.legend()\n",
    "plt.show()"
   ]
  },
  {
   "cell_type": "markdown",
   "id": "b899bc13",
   "metadata": {},
   "source": [
    "# if total_word is in range 0-25 their is high chance it will be duplicate or if total words are more than 25 their is high chance it will be non_duplicate"
   ]
  },
  {
   "cell_type": "code",
   "execution_count": 32,
   "id": "74b86b4c",
   "metadata": {},
   "outputs": [
    {
     "name": "stderr",
     "output_type": "stream",
     "text": [
      "C:\\Users\\Asus\\anaconda3\\lib\\site-packages\\seaborn\\distributions.py:2619: FutureWarning: `distplot` is a deprecated function and will be removed in a future version. Please adapt your code to use either `displot` (a figure-level function with similar flexibility) or `histplot` (an axes-level function for histograms).\n",
      "  warnings.warn(msg, FutureWarning)\n",
      "C:\\Users\\Asus\\anaconda3\\lib\\site-packages\\seaborn\\distributions.py:2619: FutureWarning: `distplot` is a deprecated function and will be removed in a future version. Please adapt your code to use either `displot` (a figure-level function with similar flexibility) or `histplot` (an axes-level function for histograms).\n",
      "  warnings.warn(msg, FutureWarning)\n"
     ]
    },
    {
     "data": {
      "image/png": "[encoded data removed]",
      "text/plain": [
       "<Figure size 432x288 with 1 Axes>"
      ]
     },
     "metadata": {},
     "output_type": "display_data"
    }
   ],
   "source": [
    "# words_\n",
    "sns.distplot(df[df['is_duplicate']==0]['word_share'],label='NON_DUPLICATE')\n",
    "sns.distplot(df[df['is_duplicate']==1]['word_share'],label='DUPLICATE')\n",
    "plt.legend()\n",
    "plt.show()"
   ]
  },
  {
   "cell_type": "markdown",
   "id": "cfada7dd",
   "metadata": {},
   "source": [
    "# we can see if word_share in question1 and question2 are less than 0.2 , there is high probability that it will be \"NON DUPLICATE\"\n",
    "# or if it more than 0.2 , there is high probability it will be\"Duplicate\""
   ]
  },
  {
   "cell_type": "code",
   "execution_count": null,
   "id": "608d8855",
   "metadata": {},
   "outputs": [],
   "source": []
  },
  {
   "cell_type": "code",
   "execution_count": null,
   "id": "6ce7575c",
   "metadata": {
    "scrolled": true
   },
   "outputs": [],
   "source": []
  },
  {
   "cell_type": "markdown",
   "id": "0836a1fe",
   "metadata": {},
   "source": [
    "# Text Preprocessing\n",
    "## 1. Lowercase\n",
    "## 2. Tokenization\n",
    "## 3. Removing special characters\n",
    "## 4. Removing stop words and punctuations\n",
    "## 5. Stemming"
   ]
  },
  {
   "cell_type": "code",
   "execution_count": 33,
   "id": "4dfb7531",
   "metadata": {},
   "outputs": [],
   "source": [
    "# make a function for all 5 steps\n",
    "import nltk\n",
    "from nltk.corpus import stopwords\n",
    "stopwords.words('english')\n",
    "from nltk.stem.porter import PorterStemmer\n",
    "ps = PorterStemmer()\n",
    "import string"
   ]
  },
  {
   "cell_type": "code",
   "execution_count": 34,
   "id": "b2c0f748",
   "metadata": {},
   "outputs": [],
   "source": [
    "def text_transform(text):\n",
    "    text = text.lower()\n",
    "    text = nltk.word_tokenize(text)\n",
    "    \n",
    "# removing special characters    \n",
    "    x = []\n",
    "    for i in text:\n",
    "        if i.isalnum():\n",
    "            x.append(i)\n",
    "            \n",
    "    text = x[:]\n",
    "    x.clear()\n",
    "    \n",
    "    for i in text:\n",
    "        if i not in stopwords.words('english') and string.punctuation:\n",
    "            x.append(i)\n",
    "    \n",
    "    text = x[:]\n",
    "    x.clear()\n",
    "    \n",
    "    for i in text:\n",
    "        x.append(ps.stem(i))\n",
    "        \n",
    "        \n",
    "        \n",
    "    return \" \".join(x)"
   ]
  },
  {
   "cell_type": "code",
   "execution_count": 35,
   "id": "3dd87f4f",
   "metadata": {},
   "outputs": [],
   "source": [
    "df['question1'] = df['question1'].apply(text_transform)\n",
    "df['question2'] = df['question2'].apply(text_transform)"
   ]
  },
  {
   "cell_type": "code",
   "execution_count": 36,
   "id": "f947e1a6",
   "metadata": {},
   "outputs": [
    {
     "data": {
      "text/html": [
       "<div>\n",
       "<style scoped>\n",
       "    .dataframe tbody tr th:only-of-type {\n",
       "        vertical-align: middle;\n",
       "    }\n",
       "\n",
       "    .dataframe tbody tr th {\n",
       "        vertical-align: top;\n",
       "    }\n",
       "\n",
       "    .dataframe thead th {\n",
       "        text-align: right;\n",
       "    }\n",
       "</style>\n",
       "<table border=\"1\" class=\"dataframe\">\n",
       "  <thead>\n",
       "    <tr style=\"text-align: right;\">\n",
       "      <th></th>\n",
       "      <th>id</th>\n",
       "      <th>qid1</th>\n",
       "      <th>qid2</th>\n",
       "      <th>question1</th>\n",
       "      <th>question2</th>\n",
       "      <th>is_duplicate</th>\n",
       "      <th>q1_num_words</th>\n",
       "      <th>q2_num_words</th>\n",
       "      <th>common_words</th>\n",
       "      <th>total_words</th>\n",
       "      <th>q1_len</th>\n",
       "      <th>q2_len</th>\n",
       "      <th>word_share</th>\n",
       "    </tr>\n",
       "  </thead>\n",
       "  <tbody>\n",
       "    <tr>\n",
       "      <th>187266</th>\n",
       "      <td>187266</td>\n",
       "      <td>285431</td>\n",
       "      <td>41214</td>\n",
       "      <td>differ german austrian cultur</td>\n",
       "      <td>cultur differ austria germani</td>\n",
       "      <td>1</td>\n",
       "      <td>9</td>\n",
       "      <td>9</td>\n",
       "      <td>5</td>\n",
       "      <td>18</td>\n",
       "      <td>62</td>\n",
       "      <td>62</td>\n",
       "      <td>0.28</td>\n",
       "    </tr>\n",
       "    <tr>\n",
       "      <th>6557</th>\n",
       "      <td>6557</td>\n",
       "      <td>12839</td>\n",
       "      <td>12840</td>\n",
       "      <td>best doctor doom stori</td>\n",
       "      <td>best comic featur doctor doom</td>\n",
       "      <td>1</td>\n",
       "      <td>7</td>\n",
       "      <td>8</td>\n",
       "      <td>5</td>\n",
       "      <td>15</td>\n",
       "      <td>38</td>\n",
       "      <td>47</td>\n",
       "      <td>0.33</td>\n",
       "    </tr>\n",
       "    <tr>\n",
       "      <th>139265</th>\n",
       "      <td>139265</td>\n",
       "      <td>27229</td>\n",
       "      <td>65241</td>\n",
       "      <td>best book prepar ssb</td>\n",
       "      <td>best book prepar iit jam physic exam</td>\n",
       "      <td>0</td>\n",
       "      <td>9</td>\n",
       "      <td>13</td>\n",
       "      <td>8</td>\n",
       "      <td>21</td>\n",
       "      <td>43</td>\n",
       "      <td>64</td>\n",
       "      <td>0.38</td>\n",
       "    </tr>\n",
       "    <tr>\n",
       "      <th>240137</th>\n",
       "      <td>240137</td>\n",
       "      <td>351894</td>\n",
       "      <td>351895</td>\n",
       "      <td>ms vlsi portland state univers good heard inte...</td>\n",
       "      <td>univers appli ms vlsi</td>\n",
       "      <td>0</td>\n",
       "      <td>24</td>\n",
       "      <td>10</td>\n",
       "      <td>4</td>\n",
       "      <td>33</td>\n",
       "      <td>123</td>\n",
       "      <td>52</td>\n",
       "      <td>0.12</td>\n",
       "    </tr>\n",
       "    <tr>\n",
       "      <th>3336</th>\n",
       "      <td>3336</td>\n",
       "      <td>6613</td>\n",
       "      <td>6614</td>\n",
       "      <td>height would 14 year old increas height</td>\n",
       "      <td>increas height</td>\n",
       "      <td>1</td>\n",
       "      <td>10</td>\n",
       "      <td>6</td>\n",
       "      <td>3</td>\n",
       "      <td>16</td>\n",
       "      <td>52</td>\n",
       "      <td>32</td>\n",
       "      <td>0.19</td>\n",
       "    </tr>\n",
       "  </tbody>\n",
       "</table>\n",
       "</div>"
      ],
      "text/plain": [
       "            id    qid1    qid2  \\\n",
       "187266  187266  285431   41214   \n",
       "6557      6557   12839   12840   \n",
       "139265  139265   27229   65241   \n",
       "240137  240137  351894  351895   \n",
       "3336      3336    6613    6614   \n",
       "\n",
       "                                                question1  \\\n",
       "187266                      differ german austrian cultur   \n",
       "6557                               best doctor doom stori   \n",
       "139265                               best book prepar ssb   \n",
       "240137  ms vlsi portland state univers good heard inte...   \n",
       "3336              height would 14 year old increas height   \n",
       "\n",
       "                                   question2  is_duplicate  q1_num_words  \\\n",
       "187266         cultur differ austria germani             1             9   \n",
       "6557           best comic featur doctor doom             1             7   \n",
       "139265  best book prepar iit jam physic exam             0             9   \n",
       "240137                 univers appli ms vlsi             0            24   \n",
       "3336                          increas height             1            10   \n",
       "\n",
       "        q2_num_words  common_words  total_words  q1_len  q2_len  word_share  \n",
       "187266             9             5           18      62      62        0.28  \n",
       "6557               8             5           15      38      47        0.33  \n",
       "139265            13             8           21      43      64        0.38  \n",
       "240137            10             4           33     123      52        0.12  \n",
       "3336               6             3           16      52      32        0.19  "
      ]
     },
     "execution_count": 36,
     "metadata": {},
     "output_type": "execute_result"
    }
   ],
   "source": [
    "df.head()"
   ]
  },
  {
   "cell_type": "code",
   "execution_count": 37,
   "id": "419d950b",
   "metadata": {},
   "outputs": [],
   "source": [
    "ques_df = df[['question1','question2']]"
   ]
  },
  {
   "cell_type": "code",
   "execution_count": 38,
   "id": "ff9bddcf",
   "metadata": {},
   "outputs": [],
   "source": [
    "# merge text\n",
    "questions = list(ques_df['question1']) + list(ques_df['question2'])"
   ]
  },
  {
   "cell_type": "code",
   "execution_count": 39,
   "id": "a3a72a04",
   "metadata": {},
   "outputs": [],
   "source": [
    "from sklearn.feature_extraction.text import TfidfVectorizer\n",
    "tfidf = TfidfVectorizer(max_features=3000)\n",
    "q1_arr,q2_arr = np.vsplit(tfidf.fit_transform(questions).toarray(),2)"
   ]
  },
  {
   "cell_type": "code",
   "execution_count": 40,
   "id": "4858ef36",
   "metadata": {},
   "outputs": [
    {
     "data": {
      "text/plain": [
       "(30000, 6000)"
      ]
     },
     "execution_count": 40,
     "metadata": {},
     "output_type": "execute_result"
    }
   ],
   "source": [
    "temp_df1 = pd.DataFrame(q1_arr, index = ques_df.index)\n",
    "temp_df2 = pd.DataFrame(q2_arr, index = ques_df.index)\n",
    "temp_df = pd.concat([temp_df1,temp_df2],axis=1)\n",
    "temp_df.shape"
   ]
  },
  {
   "cell_type": "code",
   "execution_count": 41,
   "id": "8bea6f2a",
   "metadata": {},
   "outputs": [
    {
     "data": {
      "text/html": [
       "<div>\n",
       "<style scoped>\n",
       "    .dataframe tbody tr th:only-of-type {\n",
       "        vertical-align: middle;\n",
       "    }\n",
       "\n",
       "    .dataframe tbody tr th {\n",
       "        vertical-align: top;\n",
       "    }\n",
       "\n",
       "    .dataframe thead th {\n",
       "        text-align: right;\n",
       "    }\n",
       "</style>\n",
       "<table border=\"1\" class=\"dataframe\">\n",
       "  <thead>\n",
       "    <tr style=\"text-align: right;\">\n",
       "      <th></th>\n",
       "      <th>id</th>\n",
       "      <th>qid1</th>\n",
       "      <th>qid2</th>\n",
       "      <th>question1</th>\n",
       "      <th>question2</th>\n",
       "      <th>is_duplicate</th>\n",
       "      <th>q1_num_words</th>\n",
       "      <th>q2_num_words</th>\n",
       "      <th>common_words</th>\n",
       "      <th>total_words</th>\n",
       "      <th>...</th>\n",
       "      <th>2990</th>\n",
       "      <th>2991</th>\n",
       "      <th>2992</th>\n",
       "      <th>2993</th>\n",
       "      <th>2994</th>\n",
       "      <th>2995</th>\n",
       "      <th>2996</th>\n",
       "      <th>2997</th>\n",
       "      <th>2998</th>\n",
       "      <th>2999</th>\n",
       "    </tr>\n",
       "  </thead>\n",
       "  <tbody>\n",
       "    <tr>\n",
       "      <th>187266</th>\n",
       "      <td>187266</td>\n",
       "      <td>285431</td>\n",
       "      <td>41214</td>\n",
       "      <td>differ german austrian cultur</td>\n",
       "      <td>cultur differ austria germani</td>\n",
       "      <td>1</td>\n",
       "      <td>9</td>\n",
       "      <td>9</td>\n",
       "      <td>5</td>\n",
       "      <td>18</td>\n",
       "      <td>...</td>\n",
       "      <td>0.0</td>\n",
       "      <td>0.0</td>\n",
       "      <td>0.0</td>\n",
       "      <td>0.0</td>\n",
       "      <td>0.0</td>\n",
       "      <td>0.0</td>\n",
       "      <td>0.0</td>\n",
       "      <td>0.0</td>\n",
       "      <td>0.0</td>\n",
       "      <td>0.0</td>\n",
       "    </tr>\n",
       "    <tr>\n",
       "      <th>6557</th>\n",
       "      <td>6557</td>\n",
       "      <td>12839</td>\n",
       "      <td>12840</td>\n",
       "      <td>best doctor doom stori</td>\n",
       "      <td>best comic featur doctor doom</td>\n",
       "      <td>1</td>\n",
       "      <td>7</td>\n",
       "      <td>8</td>\n",
       "      <td>5</td>\n",
       "      <td>15</td>\n",
       "      <td>...</td>\n",
       "      <td>0.0</td>\n",
       "      <td>0.0</td>\n",
       "      <td>0.0</td>\n",
       "      <td>0.0</td>\n",
       "      <td>0.0</td>\n",
       "      <td>0.0</td>\n",
       "      <td>0.0</td>\n",
       "      <td>0.0</td>\n",
       "      <td>0.0</td>\n",
       "      <td>0.0</td>\n",
       "    </tr>\n",
       "    <tr>\n",
       "      <th>139265</th>\n",
       "      <td>139265</td>\n",
       "      <td>27229</td>\n",
       "      <td>65241</td>\n",
       "      <td>best book prepar ssb</td>\n",
       "      <td>best book prepar iit jam physic exam</td>\n",
       "      <td>0</td>\n",
       "      <td>9</td>\n",
       "      <td>13</td>\n",
       "      <td>8</td>\n",
       "      <td>21</td>\n",
       "      <td>...</td>\n",
       "      <td>0.0</td>\n",
       "      <td>0.0</td>\n",
       "      <td>0.0</td>\n",
       "      <td>0.0</td>\n",
       "      <td>0.0</td>\n",
       "      <td>0.0</td>\n",
       "      <td>0.0</td>\n",
       "      <td>0.0</td>\n",
       "      <td>0.0</td>\n",
       "      <td>0.0</td>\n",
       "    </tr>\n",
       "    <tr>\n",
       "      <th>240137</th>\n",
       "      <td>240137</td>\n",
       "      <td>351894</td>\n",
       "      <td>351895</td>\n",
       "      <td>ms vlsi portland state univers good heard inte...</td>\n",
       "      <td>univers appli ms vlsi</td>\n",
       "      <td>0</td>\n",
       "      <td>24</td>\n",
       "      <td>10</td>\n",
       "      <td>4</td>\n",
       "      <td>33</td>\n",
       "      <td>...</td>\n",
       "      <td>0.0</td>\n",
       "      <td>0.0</td>\n",
       "      <td>0.0</td>\n",
       "      <td>0.0</td>\n",
       "      <td>0.0</td>\n",
       "      <td>0.0</td>\n",
       "      <td>0.0</td>\n",
       "      <td>0.0</td>\n",
       "      <td>0.0</td>\n",
       "      <td>0.0</td>\n",
       "    </tr>\n",
       "    <tr>\n",
       "      <th>3336</th>\n",
       "      <td>3336</td>\n",
       "      <td>6613</td>\n",
       "      <td>6614</td>\n",
       "      <td>height would 14 year old increas height</td>\n",
       "      <td>increas height</td>\n",
       "      <td>1</td>\n",
       "      <td>10</td>\n",
       "      <td>6</td>\n",
       "      <td>3</td>\n",
       "      <td>16</td>\n",
       "      <td>...</td>\n",
       "      <td>0.0</td>\n",
       "      <td>0.0</td>\n",
       "      <td>0.0</td>\n",
       "      <td>0.0</td>\n",
       "      <td>0.0</td>\n",
       "      <td>0.0</td>\n",
       "      <td>0.0</td>\n",
       "      <td>0.0</td>\n",
       "      <td>0.0</td>\n",
       "      <td>0.0</td>\n",
       "    </tr>\n",
       "  </tbody>\n",
       "</table>\n",
       "<p>5 rows × 6013 columns</p>\n",
       "</div>"
      ],
      "text/plain": [
       "            id    qid1    qid2  \\\n",
       "187266  187266  285431   41214   \n",
       "6557      6557   12839   12840   \n",
       "139265  139265   27229   65241   \n",
       "240137  240137  351894  351895   \n",
       "3336      3336    6613    6614   \n",
       "\n",
       "                                                question1  \\\n",
       "187266                      differ german austrian cultur   \n",
       "6557                               best doctor doom stori   \n",
       "139265                               best book prepar ssb   \n",
       "240137  ms vlsi portland state univers good heard inte...   \n",
       "3336              height would 14 year old increas height   \n",
       "\n",
       "                                   question2  is_duplicate  q1_num_words  \\\n",
       "187266         cultur differ austria germani             1             9   \n",
       "6557           best comic featur doctor doom             1             7   \n",
       "139265  best book prepar iit jam physic exam             0             9   \n",
       "240137                 univers appli ms vlsi             0            24   \n",
       "3336                          increas height             1            10   \n",
       "\n",
       "        q2_num_words  common_words  total_words  ...  2990  2991  2992  2993  \\\n",
       "187266             9             5           18  ...   0.0   0.0   0.0   0.0   \n",
       "6557               8             5           15  ...   0.0   0.0   0.0   0.0   \n",
       "139265            13             8           21  ...   0.0   0.0   0.0   0.0   \n",
       "240137            10             4           33  ...   0.0   0.0   0.0   0.0   \n",
       "3336               6             3           16  ...   0.0   0.0   0.0   0.0   \n",
       "\n",
       "        2994  2995  2996  2997  2998  2999  \n",
       "187266   0.0   0.0   0.0   0.0   0.0   0.0  \n",
       "6557     0.0   0.0   0.0   0.0   0.0   0.0  \n",
       "139265   0.0   0.0   0.0   0.0   0.0   0.0  \n",
       "240137   0.0   0.0   0.0   0.0   0.0   0.0  \n",
       "3336     0.0   0.0   0.0   0.0   0.0   0.0  \n",
       "\n",
       "[5 rows x 6013 columns]"
      ]
     },
     "execution_count": 41,
     "metadata": {},
     "output_type": "execute_result"
    }
   ],
   "source": [
    "final_df = pd.concat([df,temp_df],axis=1)\n",
    "final_df.head()"
   ]
  },
  {
   "cell_type": "code",
   "execution_count": 42,
   "id": "83a3517a",
   "metadata": {},
   "outputs": [],
   "source": [
    " data2=final_df.copy()"
   ]
  },
  {
   "cell_type": "code",
   "execution_count": 43,
   "id": "67090b8e",
   "metadata": {},
   "outputs": [],
   "source": [
    "new_df = final_df.drop(['id','qid1','qid2','question1','question2'],axis=1)"
   ]
  },
  {
   "cell_type": "code",
   "execution_count": 44,
   "id": "40d7fbd0",
   "metadata": {},
   "outputs": [
    {
     "data": {
      "text/html": [
       "<div>\n",
       "<style scoped>\n",
       "    .dataframe tbody tr th:only-of-type {\n",
       "        vertical-align: middle;\n",
       "    }\n",
       "\n",
       "    .dataframe tbody tr th {\n",
       "        vertical-align: top;\n",
       "    }\n",
       "\n",
       "    .dataframe thead th {\n",
       "        text-align: right;\n",
       "    }\n",
       "</style>\n",
       "<table border=\"1\" class=\"dataframe\">\n",
       "  <thead>\n",
       "    <tr style=\"text-align: right;\">\n",
       "      <th></th>\n",
       "      <th>is_duplicate</th>\n",
       "      <th>q1_num_words</th>\n",
       "      <th>q2_num_words</th>\n",
       "      <th>common_words</th>\n",
       "      <th>total_words</th>\n",
       "      <th>q1_len</th>\n",
       "      <th>q2_len</th>\n",
       "      <th>word_share</th>\n",
       "      <th>0</th>\n",
       "      <th>1</th>\n",
       "      <th>...</th>\n",
       "      <th>2990</th>\n",
       "      <th>2991</th>\n",
       "      <th>2992</th>\n",
       "      <th>2993</th>\n",
       "      <th>2994</th>\n",
       "      <th>2995</th>\n",
       "      <th>2996</th>\n",
       "      <th>2997</th>\n",
       "      <th>2998</th>\n",
       "      <th>2999</th>\n",
       "    </tr>\n",
       "  </thead>\n",
       "  <tbody>\n",
       "    <tr>\n",
       "      <th>187266</th>\n",
       "      <td>1</td>\n",
       "      <td>9</td>\n",
       "      <td>9</td>\n",
       "      <td>5</td>\n",
       "      <td>18</td>\n",
       "      <td>62</td>\n",
       "      <td>62</td>\n",
       "      <td>0.28</td>\n",
       "      <td>0.0</td>\n",
       "      <td>0.0</td>\n",
       "      <td>...</td>\n",
       "      <td>0.0</td>\n",
       "      <td>0.0</td>\n",
       "      <td>0.0</td>\n",
       "      <td>0.0</td>\n",
       "      <td>0.0</td>\n",
       "      <td>0.0</td>\n",
       "      <td>0.0</td>\n",
       "      <td>0.0</td>\n",
       "      <td>0.0</td>\n",
       "      <td>0.0</td>\n",
       "    </tr>\n",
       "    <tr>\n",
       "      <th>6557</th>\n",
       "      <td>1</td>\n",
       "      <td>7</td>\n",
       "      <td>8</td>\n",
       "      <td>5</td>\n",
       "      <td>15</td>\n",
       "      <td>38</td>\n",
       "      <td>47</td>\n",
       "      <td>0.33</td>\n",
       "      <td>0.0</td>\n",
       "      <td>0.0</td>\n",
       "      <td>...</td>\n",
       "      <td>0.0</td>\n",
       "      <td>0.0</td>\n",
       "      <td>0.0</td>\n",
       "      <td>0.0</td>\n",
       "      <td>0.0</td>\n",
       "      <td>0.0</td>\n",
       "      <td>0.0</td>\n",
       "      <td>0.0</td>\n",
       "      <td>0.0</td>\n",
       "      <td>0.0</td>\n",
       "    </tr>\n",
       "    <tr>\n",
       "      <th>139265</th>\n",
       "      <td>0</td>\n",
       "      <td>9</td>\n",
       "      <td>13</td>\n",
       "      <td>8</td>\n",
       "      <td>21</td>\n",
       "      <td>43</td>\n",
       "      <td>64</td>\n",
       "      <td>0.38</td>\n",
       "      <td>0.0</td>\n",
       "      <td>0.0</td>\n",
       "      <td>...</td>\n",
       "      <td>0.0</td>\n",
       "      <td>0.0</td>\n",
       "      <td>0.0</td>\n",
       "      <td>0.0</td>\n",
       "      <td>0.0</td>\n",
       "      <td>0.0</td>\n",
       "      <td>0.0</td>\n",
       "      <td>0.0</td>\n",
       "      <td>0.0</td>\n",
       "      <td>0.0</td>\n",
       "    </tr>\n",
       "    <tr>\n",
       "      <th>240137</th>\n",
       "      <td>0</td>\n",
       "      <td>24</td>\n",
       "      <td>10</td>\n",
       "      <td>4</td>\n",
       "      <td>33</td>\n",
       "      <td>123</td>\n",
       "      <td>52</td>\n",
       "      <td>0.12</td>\n",
       "      <td>0.0</td>\n",
       "      <td>0.0</td>\n",
       "      <td>...</td>\n",
       "      <td>0.0</td>\n",
       "      <td>0.0</td>\n",
       "      <td>0.0</td>\n",
       "      <td>0.0</td>\n",
       "      <td>0.0</td>\n",
       "      <td>0.0</td>\n",
       "      <td>0.0</td>\n",
       "      <td>0.0</td>\n",
       "      <td>0.0</td>\n",
       "      <td>0.0</td>\n",
       "    </tr>\n",
       "    <tr>\n",
       "      <th>3336</th>\n",
       "      <td>1</td>\n",
       "      <td>10</td>\n",
       "      <td>6</td>\n",
       "      <td>3</td>\n",
       "      <td>16</td>\n",
       "      <td>52</td>\n",
       "      <td>32</td>\n",
       "      <td>0.19</td>\n",
       "      <td>0.0</td>\n",
       "      <td>0.0</td>\n",
       "      <td>...</td>\n",
       "      <td>0.0</td>\n",
       "      <td>0.0</td>\n",
       "      <td>0.0</td>\n",
       "      <td>0.0</td>\n",
       "      <td>0.0</td>\n",
       "      <td>0.0</td>\n",
       "      <td>0.0</td>\n",
       "      <td>0.0</td>\n",
       "      <td>0.0</td>\n",
       "      <td>0.0</td>\n",
       "    </tr>\n",
       "  </tbody>\n",
       "</table>\n",
       "<p>5 rows × 6008 columns</p>\n",
       "</div>"
      ],
      "text/plain": [
       "        is_duplicate  q1_num_words  q2_num_words  common_words  total_words  \\\n",
       "187266             1             9             9             5           18   \n",
       "6557               1             7             8             5           15   \n",
       "139265             0             9            13             8           21   \n",
       "240137             0            24            10             4           33   \n",
       "3336               1            10             6             3           16   \n",
       "\n",
       "        q1_len  q2_len  word_share    0    1  ...  2990  2991  2992  2993  \\\n",
       "187266      62      62        0.28  0.0  0.0  ...   0.0   0.0   0.0   0.0   \n",
       "6557        38      47        0.33  0.0  0.0  ...   0.0   0.0   0.0   0.0   \n",
       "139265      43      64        0.38  0.0  0.0  ...   0.0   0.0   0.0   0.0   \n",
       "240137     123      52        0.12  0.0  0.0  ...   0.0   0.0   0.0   0.0   \n",
       "3336        52      32        0.19  0.0  0.0  ...   0.0   0.0   0.0   0.0   \n",
       "\n",
       "        2994  2995  2996  2997  2998  2999  \n",
       "187266   0.0   0.0   0.0   0.0   0.0   0.0  \n",
       "6557     0.0   0.0   0.0   0.0   0.0   0.0  \n",
       "139265   0.0   0.0   0.0   0.0   0.0   0.0  \n",
       "240137   0.0   0.0   0.0   0.0   0.0   0.0  \n",
       "3336     0.0   0.0   0.0   0.0   0.0   0.0  \n",
       "\n",
       "[5 rows x 6008 columns]"
      ]
     },
     "execution_count": 44,
     "metadata": {},
     "output_type": "execute_result"
    }
   ],
   "source": [
    "new_df.head()"
   ]
  },
  {
   "cell_type": "code",
   "execution_count": 57,
   "id": "f7424a6c",
   "metadata": {},
   "outputs": [],
   "source": [
    "from sklearn.model_selection import train_test_split\n",
    "from sklearn.ensemble import RandomForestClassifier,ExtraTreesClassifier\n",
    "from sklearn.linear_model import LogisticRegression\n",
    "from sklearn.naive_bayes import MultinomialNB\n",
    "from sklearn.metrics import accuracy_score"
   ]
  },
  {
   "cell_type": "code",
   "execution_count": 46,
   "id": "f72d8a35",
   "metadata": {},
   "outputs": [],
   "source": [
    "x = new_df.drop(['is_duplicate'],axis=1)\n",
    "y = new_df['is_duplicate']"
   ]
  },
  {
   "cell_type": "code",
   "execution_count": 47,
   "id": "fb32f78c",
   "metadata": {},
   "outputs": [],
   "source": [
    "x_train,x_test,y_train,y_test = train_test_split(x,y,test_size=0.2,random_state=0)"
   ]
  },
  {
   "cell_type": "code",
   "execution_count": 48,
   "id": "74b2e426",
   "metadata": {},
   "outputs": [
    {
     "name": "stdout",
     "output_type": "stream",
     "text": [
      "accuracy_score 0.765\n"
     ]
    }
   ],
   "source": [
    "# RandomForestClassifier\n",
    "rfc = RandomForestClassifier()\n",
    "rfc.fit(x_train,y_train)\n",
    "y_pred = rfc.predict(x_test)\n",
    "print('accuracy_score', accuracy_score(y_test,y_pred))"
   ]
  },
  {
   "cell_type": "code",
   "execution_count": 49,
   "id": "af1104ce",
   "metadata": {},
   "outputs": [
    {
     "name": "stdout",
     "output_type": "stream",
     "text": [
      "accuracy_score 0.7731666666666667\n"
     ]
    }
   ],
   "source": [
    "# Extratreeclassifier\n",
    "etc =ExtraTreesClassifier()\n",
    "etc.fit(x_train,y_train)\n",
    "y_pred = etc.predict(x_test)\n",
    "print('accuracy_score', accuracy_score(y_test,y_pred))"
   ]
  },
  {
   "cell_type": "code",
   "execution_count": 50,
   "id": "2afd69fc",
   "metadata": {},
   "outputs": [
    {
     "name": "stderr",
     "output_type": "stream",
     "text": [
      "C:\\Users\\Asus\\anaconda3\\lib\\site-packages\\sklearn\\linear_model\\_logistic.py:763: ConvergenceWarning: lbfgs failed to converge (status=1):\n",
      "STOP: TOTAL NO. of ITERATIONS REACHED LIMIT.\n",
      "\n",
      "Increase the number of iterations (max_iter) or scale the data as shown in:\n",
      "    https://scikit-learn.org/stable/modules/preprocessing.html\n",
      "Please also refer to the documentation for alternative solver options:\n",
      "    https://scikit-learn.org/stable/modules/linear_model.html#logistic-regression\n",
      "  n_iter_i = _check_optimize_result(\n"
     ]
    },
    {
     "name": "stdout",
     "output_type": "stream",
     "text": [
      "accuracy_score 0.7238333333333333\n"
     ]
    }
   ],
   "source": [
    "# logistic regeression\n",
    "lr = LogisticRegression ()\n",
    "lr.fit(x_train,y_train)\n",
    "y_pred = lr.predict(x_test)\n",
    "print('accuracy_score', accuracy_score(y_test,y_pred))"
   ]
  },
  {
   "cell_type": "code",
   "execution_count": 58,
   "id": "ac3d586e",
   "metadata": {},
   "outputs": [],
   "source": [
    "mnb = MultinomialNB()"
   ]
  },
  {
   "cell_type": "code",
   "execution_count": 59,
   "id": "ee3241d5",
   "metadata": {},
   "outputs": [
    {
     "name": "stdout",
     "output_type": "stream",
     "text": [
      "0.7401666666666666\n"
     ]
    }
   ],
   "source": [
    "# MultinomialNB\n",
    "mnb.fit(x_train,y_train)\n",
    "y_pred2 = mnb.predict(x_test)\n",
    "print(accuracy_score(y_test,y_pred2))"
   ]
  }
 ],
 "metadata": {
  "kernelspec": {
   "display_name": "Python 3 (ipykernel)",
   "language": "python",
   "name": "python3"
  },
  "language_info": {
   "codemirror_mode": {
    "name": "ipython",
    "version": 3
   },
   "file_extension": ".py",
   "mimetype": "text/x-python",
   "name": "python",
   "nbconvert_exporter": "python",
   "pygments_lexer": "ipython3",
   "version": "3.9.7"
  }
 },
 "nbformat": 4,
 "nbformat_minor": 5
}
